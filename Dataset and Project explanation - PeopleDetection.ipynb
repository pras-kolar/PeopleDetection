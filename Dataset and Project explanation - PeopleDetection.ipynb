{
 "cells": [
  {
   "cell_type": "markdown",
   "metadata": {},
   "source": [
    "  "
   ]
  },
  {
   "cell_type": "markdown",
   "metadata": {},
   "source": [
    "<hr style=\"height:3px;border:none;color:#333;background-color:#333;\" />\n",
    "<img style=\" float:right; display:inline\" src=\"http://opencloud.utsa.edu/wp-content/themes/utsa-oci/images/logo.png\"/>\n",
    "\n",
    "### **University of Texas at San Antonio** \n",
    "<br/>\n",
    "<br/>\n",
    "<span style=\"color:#000; font-family: 'Bebas Neue'; font-size: 2.5em;\"> **Open Cloud Institute** </span>\n",
    "\n",
    "<hr style=\"height:3px;border:none;color:#333;background-color:#333;\" />"
   ]
  },
  {
   "cell_type": "markdown",
   "metadata": {
    "collapsed": true
   },
   "source": [
    "### Machine Learning/BigData EE-6973-001-Fall-2016\n",
    "\n",
    "<br/>\n",
    "<span style=\"color:#000; font-family: 'Bebas Neue'; font-size: 1.5em;\"> **Jonathan Lwowski** </span>  \n",
    "\n",
    "\n",
    "<span style=\"color:#000; font-family: 'Bebas Neue'; font-size: 1.5em;\"> **Prasanna Kolar** </span>\n",
    "  \n",
    "\n",
    "<hr style=\"height:1.5px;border:none;color:#333;background-color:#333;\" />\n",
    "<hr style=\"height:1.5px;border:none;color:#333;background-color:#333;\" />"
   ]
  },
  {
   "cell_type": "markdown",
   "metadata": {},
   "source": [
    "<span style=\"color:#000; font-family: 'Bebas Neue'; font-size: 2em;\"> **Machine learning based people detector using UAVs** </span>  \n",
    "<br/>\n",
    "<br/>\n",
    "<span style=\"color:#000; font-family: 'Bebas Neue'; font-size: 1.6em;\"> Jonathan Lwowski, Prasanna Kolar </span>  \n",
    "<span style=\"color:#000; font-family: 'Bebas Neue'; font-size: 1.4em;\"> *Autonomous Controls Lab, University of Texas at San Antonio, San Antonio, Texas, USA* </span>  \n",
    "<span style=\"color:#000; font-family: 'Bebas Neue'; font-size: 1.4em;\"> {kyx930,vdd121}@my.utsa.edu </span>\n",
    "<br/>\n",
    "<br/>"
   ]
  },
  {
   "cell_type": "markdown",
   "metadata": {},
   "source": [
    "<span style=\"color:#000; font-family: 'Bebas Neue'; font-size: 1.5em;\"> **Dataset:** </span> <span style=\"color:#000; font-family: 'Bebas Neue'; font-size: 1.3em;\"> The image data can be found in [http://www.gavrila.net/Datasets/Daimler_Pedestrian_Benchmark_D/Daimler_Mono_Ped__Class__Bench/daimler_mono_ped__class__bench.html] [1]. This dataset contains a collection of pedestrian and non-pedestrian images. The base data set contains a total of 4000 pedestrian and 5000 non-pedestrian samples cut out from video images and scaled to common size of 18x36 pixels. </span> "
   ]
  },
  {
   "cell_type": "markdown",
   "metadata": {},
   "source": [
    "<span style=\"color:#000; font-family: 'Bebas Neue'; font-size: 1.5em;\"> **Outcome:** </span> <span style=\"color:#000; font-family: 'Bebas Neue'; font-size: 1.3em;\"> Applying deep learning to identify people in a camera's image </span>"
   ]
  },
  {
   "cell_type": "markdown",
   "metadata": {},
   "source": [
    "<span style=\"color:#000; font-family: 'Bebas Neue'; font-size: 1.5em;\"> **Project Definition:** </span> <span style=\"color:#000; font-family: 'Bebas Neue'; font-size: 1.3em;\"> Using deep neural network models, ResNet and Convnet, classification of camera images of faces of various people in various poses is sudied. The dataset includes images of 20 different people, approximately 32 images per person, varying the person's expression (happy, sad, angry, neutral), the direction in which they are looking (left, right, straight ahead, up), and whether or not they were wearing sunglassess. </span>\n",
    "\n",
    "<span style=\"color:#000; font-family: 'Bebas Neue'; font-size: 1.3em;\"> There is also variation in the background behind the person, the clothing worn by the person, and theposition of the person's face within the image. I total. 624 greyscale images were collected, each whithin a resolutoin of 120by128, with each image pixel described by a greyscale intensity value between 0 (black) and 255 (white).</span>\n",
    "\n",
    "\n",
    "<span style=\"color:#000; font-family: 'Bebas Neue'; font-size: 1.3em;\"> A variety of target function can be learn from this image data. For example, given an image as input we could train a model to output the identity of the person, the direction in which the person is facing, the gender of the person, whether or not they are wearning sunglasses, etc. All of this target functions can be learned to high accuracy from this image data. In this course research we consider the particular task: learning the direction in which the person is facing (to their left, right, straight ahead, or upward)[1]. </span>\n",
    "\n"
   ]
  },
  {
   "cell_type": "markdown",
   "metadata": {},
   "source": [
    "\n",
    "\n",
    "<div style=\"width:830; background-color:white; height:220px; overflow:scroll; overflow-x: scroll;overflow-y: hidden;\">\n",
    "\n",
    "<img align=\"center\" src=\"http://www.gavrila.net/Datasets/Daimler_Pedestrian_Benchmark_D/dc_ped_class_benchmark.gif\"/>\n",
    "\n",
    "\n",
    "\n",
    "</div>"
   ]
  },
  {
   "cell_type": "markdown",
   "metadata": {},
   "source": [
    "[1]: S. Munder and D. M. Gavrila, \"An Experimental Study on Pedestrian\n",
    "  Classification\", IEEE Trans. on Pattern Analysis and Machine\n",
    "  Intelligence, 2006.\n"
   ]
  },
  {
   "cell_type": "code",
   "execution_count": 84,
   "metadata": {
    "collapsed": true
   },
   "outputs": [],
   "source": [
    "import tensorflow as tf\n",
    "import numpy as np\n",
    "from skimage import io\n",
    "import matplotlib.pyplot as plt\n",
    "from pylab import *\n",
    "from tensorflow.examples.tutorials.mnist import input_data\n",
    "%matplotlib inline"
   ]
  },
  {
   "cell_type": "code",
   "execution_count": 85,
   "metadata": {
    "collapsed": true
   },
   "outputs": [],
   "source": [
    "epochs = 1000\n",
    "learning_rate = 0.5"
   ]
  },
  {
   "cell_type": "markdown",
   "metadata": {},
   "source": [
    "# Import Training Data"
   ]
  },
  {
   "cell_type": "code",
   "execution_count": 86,
   "metadata": {
    "collapsed": false
   },
   "outputs": [
    {
     "name": "stdout",
     "output_type": "stream",
     "text": [
      "(4800, 36, 18)\n",
      "(5000, 36, 18)\n"
     ]
    }
   ],
   "source": [
    "training_data_peds = []\n",
    "training_data_nonpeds = []\n",
    "\n",
    "images = io.imread_collection('1/ped_examples/*.pgm')\n",
    "for (image, fn) in zip(images, images.files):\n",
    "    training_data_peds.append(image)\n",
    "    \n",
    "images = io.imread_collection('1/non-ped_examples/*.pgm')\n",
    "for (image, fn) in zip(images, images.files):\n",
    "    training_data_nonpeds.append(image)\n",
    "\n",
    "print (shape(training_data_peds))\n",
    "print (shape(training_data_nonpeds))"
   ]
  },
  {
   "cell_type": "markdown",
   "metadata": {},
   "source": [
    "# Example of Ped Image"
   ]
  },
  {
   "cell_type": "code",
   "execution_count": 87,
   "metadata": {
    "collapsed": false
   },
   "outputs": [
    {
     "data": {
      "text/plain": [
       "<matplotlib.collections.PolyCollection at 0x7fe3610167b8>"
      ]
     },
     "execution_count": 87,
     "metadata": {},
     "output_type": "execute_result"
    },
    {
     "name": "stderr",
     "output_type": "stream",
     "text": [
      "/usr/lib/python3/dist-packages/matplotlib/collections.py:549: FutureWarning: elementwise comparison failed; returning scalar instead, but in the future will perform elementwise comparison\n",
      "  if self._edgecolors == 'face':\n"
     ]
    },
    {
     "data": {
      "image/png": "[encoded data removed]",
      "text/plain": [
       "<matplotlib.figure.Figure at 0x7fe3610af8d0>"
      ]
     },
     "metadata": {},
     "output_type": "display_data"
    }
   ],
   "source": [
    "pcolor(training_data_peds[1000], cmap=plt.cm.gray_r)"
   ]
  },
  {
   "cell_type": "markdown",
   "metadata": {},
   "source": [
    "# Example of Non-Ped Image"
   ]
  },
  {
   "cell_type": "code",
   "execution_count": null,
   "metadata": {
    "collapsed": false
   },
   "outputs": [
    {
     "data": {
      "text/plain": [
       "<matplotlib.collections.PolyCollection at 0x7fe36124f2e8>"
      ]
     },
     "execution_count": 88,
     "metadata": {},
     "output_type": "execute_result"
    },
    {
     "name": "stderr",
     "output_type": "stream",
     "text": [
      "/usr/lib/python3/dist-packages/matplotlib/collections.py:549: FutureWarning: elementwise comparison failed; returning scalar instead, but in the future will perform elementwise comparison\n",
      "  if self._edgecolors == 'face':\n"
     ]
    },
    {
     "data": {
      "image/png": "[encoded data removed]",
      "text/plain": [
       "<matplotlib.figure.Figure at 0x7fe36124fc50>"
      ]
     },
     "metadata": {},
     "output_type": "display_data"
    }
   ],
   "source": [
    "pcolor(training_data_nonpeds[1000], cmap=plt.cm.gray_r)"
   ]
  },
  {
   "cell_type": "markdown",
   "metadata": {},
   "source": [
    "# Reshape Image Arrays into Vectors"
   ]
  },
  {
   "cell_type": "code",
   "execution_count": null,
   "metadata": {
    "collapsed": false
   },
   "outputs": [],
   "source": [
    "reshaped_training_data_nonpeds = []\n",
    "for array in training_data_nonpeds:\n",
    "    array = np.reshape(array,shape(training_data_nonpeds)[1]*shape(training_data_nonpeds)[2])\n",
    "    reshaped_training_data_nonpeds.append(array)\n",
    "\n",
    "reshaped_training_data_peds = []\n",
    "for array in training_data_nonpeds:\n",
    "    array = np.reshape(array,shape(training_data_peds)[1]*shape(training_data_peds)[2])\n",
    "    reshaped_training_data_peds.append(array)"
   ]
  },
  {
   "cell_type": "code",
   "execution_count": null,
   "metadata": {
    "collapsed": false
   },
   "outputs": [],
   "source": [
    "print (shape(reshaped_training_data_nonpeds))\n",
    "print (shape(reshaped_training_data_peds))"
   ]
  },
  {
   "cell_type": "markdown",
   "metadata": {},
   "source": [
    "# Add Labels to Images and Combine"
   ]
  },
  {
   "cell_type": "code",
   "execution_count": null,
   "metadata": {
    "collapsed": true
   },
   "outputs": [],
   "source": [
    "class TrainingDataFinal(object):\n",
    "\n",
    "    def __init__(self,images,labels):\n",
    "        self.images = images\n",
    "        self.labels = labels\n",
    " \n"
   ]
  },
  {
   "cell_type": "code",
   "execution_count": null,
   "metadata": {
    "collapsed": false
   },
   "outputs": [],
   "source": [
    "images = np.concatenate((reshaped_training_data_nonpeds, reshaped_training_data_peds), axis=0)\n",
    "labels =[]\n",
    "label_ped = [0,1]\n",
    "label_nonped = [1,0]\n",
    "for image in reshaped_training_data_nonpeds:\n",
    "    labels.append(label_nonped)\n",
    "for image in reshaped_training_data_peds:\n",
    "    labels.append(label_ped)\n",
    "#labels = np.concatenate((zeros(len(reshaped_training_data_nonpeds)),ones(len(reshaped_training_data_peds))),axis=0)\n",
    "labels = np.reshape(labels,(shape(labels)[0],shape(labels)[1]))\n",
    "images = np.reshape(images,(shape(images)[0],shape(images)[1]))\n",
    "\n",
    "print(shape(images))\n",
    "print(shape(labels))\n",
    "\n",
    "\n",
    "trainingdatafinal=TrainingDataFinal(images,labels)"
   ]
  },
  {
   "cell_type": "code",
   "execution_count": null,
   "metadata": {
    "collapsed": true
   },
   "outputs": [],
   "source": [
    "# Parameters\n",
    "learning_rate = 0.001\n",
    "training_iters = 20000\n",
    "batch_size = 96\n",
    "display_step = 10\n",
    "\n",
    "# Network Parameters\n",
    "n_input = 648 # MNIST data input (img shape: 28*28)\n",
    "n_classes = 2 # MNIST total classes (0-9 digits)\n",
    "dropout = 0.75 # Dropout, probability to keep units\n",
    "\n",
    "# tf Graph input\n",
    "x = tf.placeholder(tf.float32, [None, n_input])\n",
    "y = tf.placeholder(tf.float32, [None, n_classes])\n",
    "keep_prob = tf.placeholder(tf.float32) #dropout (keep probability)"
   ]
  },
  {
   "cell_type": "code",
   "execution_count": null,
   "metadata": {
    "collapsed": false
   },
   "outputs": [],
   "source": [
    "# Create some wrappers for simplicity\n",
    "def conv2d(x, W, b, strides=1):\n",
    "    # Conv2D wrapper, with bias and relu activation\n",
    "    x = tf.nn.conv2d(x, W, strides=[1, strides, strides, 1], padding='SAME')\n",
    "    x = tf.nn.bias_add(x, b)\n",
    "    return tf.nn.relu(x)\n",
    "\n",
    "\n",
    "def maxpool2d(x, k=2):\n",
    "    # MaxPool2D wrapper\n",
    "    return tf.nn.max_pool(x, ksize=[1, k, k, 1], strides=[1, k, k, 1],\n",
    "                          padding='SAME')\n",
    "\n",
    "\n",
    "# Create model\n",
    "def conv_net(x, weights, biases, dropout):\n",
    "    # Reshape input picture\n",
    "    x = tf.reshape(x, shape=[-1, 18, 36, 1])\n",
    "\n",
    "    # Convolution Layer\n",
    "    conv1 = conv2d(x, weights['wc1'], biases['bc1'])\n",
    "    \n",
    "    # Max Pooling (down-sampling)\n",
    "    conv1 = maxpool2d(conv1, k=2)\n",
    "    \n",
    "    # Convolution Layer\n",
    "    conv2 = conv2d(conv1, weights['wc2'], biases['bc2'])\n",
    "    # Max Pooling (down-sampling)\n",
    "    conv2 = maxpool2d(conv2, k=2)\n",
    "    \n",
    "    # Fully connected layer\n",
    "    # Reshape conv2 output to fit fully connected layer input\n",
    "    fc1 = tf.reshape(conv2, [-1, weights['wd1'].get_shape().as_list()[0]])\n",
    "    fc1 = tf.add(tf.matmul(fc1, weights['wd1']), biases['bd1'])\n",
    "    fc1 = tf.nn.relu(fc1)\n",
    "    \n",
    "    # Apply Dropout\n",
    "    fc1 = tf.nn.dropout(fc1, dropout)\n",
    "\n",
    "    # Output, class prediction\n",
    "    out = tf.add(tf.matmul(fc1, weights['out']), biases['out'])\n",
    "    \n",
    "    return out"
   ]
  },
  {
   "cell_type": "code",
   "execution_count": null,
   "metadata": {
    "collapsed": false
   },
   "outputs": [],
   "source": [
    "# Store layers weight & bias\n",
    "weights = {\n",
    "    # 5x5 conv, 1 input, 32 outputs\n",
    "    'wc1': tf.Variable(tf.random_normal([5, 5, 1, 32])),\n",
    "    # 5x5 conv, 32 inputs, 64 outputs\n",
    "    'wc2': tf.Variable(tf.random_normal([5, 5, 32, 64])),\n",
    "    # fully connected, 7*7*64 inputs, 1024 outputs\n",
    "    'wd1': tf.Variable(tf.random_normal([3840, 1024])),\n",
    "    # 1024 inputs, 10 outputs (class prediction)\n",
    "    'out': tf.Variable(tf.random_normal([1024, n_classes]))\n",
    "}\n",
    "\n",
    "biases = {\n",
    "    'bc1': tf.Variable(tf.random_normal([32])),\n",
    "    'bc2': tf.Variable(tf.random_normal([64])),\n",
    "    'bd1': tf.Variable(tf.random_normal([1024])),\n",
    "    'out': tf.Variable(tf.random_normal([n_classes]))\n",
    "}\n",
    "\n",
    "# Construct model\n",
    "pred = conv_net(x, weights, biases, keep_prob)\n",
    "\n",
    "# Define loss and optimizer\n",
    "cost = tf.reduce_mean(tf.nn.softmax_cross_entropy_with_logits(pred, y[0:72]))\n",
    "optimizer = tf.train.AdamOptimizer(learning_rate=learning_rate).minimize(cost)\n",
    "\n",
    "# Evaluate model\n",
    "correct_pred = tf.equal(tf.argmax(pred, 1), tf.argmax(y[0:72], 1))\n",
    "accuracy = tf.reduce_mean(tf.cast(correct_pred, tf.float32))\n",
    "\n",
    "# Initializing the variables\n",
    "init = tf.initialize_all_variables()"
   ]
  },
  {
   "cell_type": "markdown",
   "metadata": {},
   "source": [
    "# Import Testing Data"
   ]
  },
  {
   "cell_type": "code",
   "execution_count": null,
   "metadata": {
    "collapsed": false
   },
   "outputs": [],
   "source": [
    "testing_data_peds = []\n",
    "testing_data_nonpeds = []\n",
    "\n",
    "images = io.imread_collection('T1/ped_examples/*.pgm')\n",
    "for (image, fn) in zip(images, images.files):\n",
    "    testing_data_peds.append(image)\n",
    "    \n",
    "images = io.imread_collection('T1/non-ped_examples/*.pgm')\n",
    "for (image, fn) in zip(images, images.files):\n",
    "    testing_data_nonpeds.append(image)\n",
    "\n",
    "print (shape(testing_data_peds))\n",
    "print (shape(testing_data_nonpeds))"
   ]
  },
  {
   "cell_type": "markdown",
   "metadata": {},
   "source": [
    "# Reshape Image Arrays into Vectors"
   ]
  },
  {
   "cell_type": "code",
   "execution_count": null,
   "metadata": {
    "collapsed": false
   },
   "outputs": [],
   "source": [
    "reshaped_testing_data_nonpeds = []\n",
    "for array in testing_data_nonpeds:\n",
    "    array = np.reshape(array,shape(testing_data_nonpeds)[1]*shape(testing_data_nonpeds)[2])\n",
    "    reshaped_testing_data_nonpeds.append(array)\n",
    "\n",
    "reshaped_testing_data_peds = []\n",
    "for array in testing_data_nonpeds:\n",
    "    array = np.reshape(array,shape(testing_data_peds)[1]*shape(testing_data_peds)[2])\n",
    "    reshaped_testing_data_peds.append(array)"
   ]
  },
  {
   "cell_type": "code",
   "execution_count": null,
   "metadata": {
    "collapsed": false
   },
   "outputs": [],
   "source": [
    "print (shape(reshaped_training_data_nonpeds))\n",
    "print (shape(reshaped_training_data_peds))"
   ]
  },
  {
   "cell_type": "code",
   "execution_count": null,
   "metadata": {
    "collapsed": true
   },
   "outputs": [],
   "source": [
    "class TestingDataFinal(object):\n",
    "\n",
    "    def __init__(self,images,labels):\n",
    "        self.images = images\n",
    "        self.labels = labels\n",
    " \n"
   ]
  },
  {
   "cell_type": "code",
   "execution_count": null,
   "metadata": {
    "collapsed": false
   },
   "outputs": [],
   "source": [
    "images = np.concatenate((reshaped_testing_data_nonpeds, reshaped_testing_data_peds), axis=0)\n",
    "labels =[]\n",
    "label_ped = [0,1]\n",
    "label_nonped = [1,0]\n",
    "for image in reshaped_testing_data_nonpeds:\n",
    "    labels.append(label_nonped)\n",
    "for image in reshaped_testing_data_peds:\n",
    "    labels.append(label_ped)\n",
    "#labels = np.concatenate((zeros(len(reshaped_training_data_nonpeds)),ones(len(reshaped_training_data_peds))),axis=0)\n",
    "labels = np.reshape(labels,(shape(labels)[0],shape(labels)[1]))\n",
    "images = np.reshape(images,(shape(images)[0],shape(images)[1]))\n",
    "\n",
    "print(shape(images))\n",
    "print(shape(labels))\n",
    "\n",
    "\n",
    "testingdatafinal=TestingDataFinal(images,labels)"
   ]
  },
  {
   "cell_type": "code",
   "execution_count": 76,
   "metadata": {
    "collapsed": false
   },
   "outputs": [
    {
     "name": "stdout",
     "output_type": "stream",
     "text": [
      "Iter 960, Minibatch Loss= 0.000000, Training Accuracy= 1.00000\n",
      "Iter 1920, Minibatch Loss= 0.000000, Training Accuracy= 1.00000\n",
      "Iter 2880, Minibatch Loss= 0.000000, Training Accuracy= 1.00000\n",
      "Iter 3840, Minibatch Loss= 0.000000, Training Accuracy= 1.00000\n",
      "Iter 4800, Minibatch Loss= 0.000000, Training Accuracy= 1.00000\n",
      "Iter 5760, Minibatch Loss= 0.000000, Training Accuracy= 1.00000\n",
      "Iter 6720, Minibatch Loss= 0.000000, Training Accuracy= 1.00000\n",
      "Iter 7680, Minibatch Loss= 0.000000, Training Accuracy= 1.00000\n",
      "Iter 8640, Minibatch Loss= 0.000000, Training Accuracy= 1.00000\n",
      "Iter 9600, Minibatch Loss= 0.000000, Training Accuracy= 1.00000\n",
      "Iter 10560, Minibatch Loss= 0.000000, Training Accuracy= 1.00000\n",
      "Iter 11520, Minibatch Loss= 0.000000, Training Accuracy= 1.00000\n",
      "Iter 12480, Minibatch Loss= 0.000000, Training Accuracy= 1.00000\n",
      "Iter 13440, Minibatch Loss= 0.000000, Training Accuracy= 1.00000\n",
      "Iter 14400, Minibatch Loss= 0.000000, Training Accuracy= 1.00000\n",
      "Iter 15360, Minibatch Loss= 0.000000, Training Accuracy= 1.00000\n",
      "Iter 16320, Minibatch Loss= 0.000000, Training Accuracy= 1.00000\n",
      "Iter 17280, Minibatch Loss= 0.000000, Training Accuracy= 1.00000\n",
      "Iter 18240, Minibatch Loss= 0.000000, Training Accuracy= 1.00000\n",
      "Iter 19200, Minibatch Loss= 0.000000, Training Accuracy= 1.00000\n",
      "Optimization Finished!\n"
     ]
    }
   ],
   "source": [
    "# Launch the graph\n",
    "with tf.Session() as sess:\n",
    "    sess.run(init)\n",
    "    step = 1\n",
    "    # Keep training until reach max iterations\n",
    "    batch_count_x = 0\n",
    "    batch_count_y = 96\n",
    "    while step * batch_size < training_iters:\n",
    "        batch_x, batch_y = trainingdatafinal.images[0:96],trainingdatafinal.labels[0:96]\n",
    "        batch_count_x += 96\n",
    "        batch_count_y += 96\n",
    "        # Run optimization op (backprop)\n",
    "        sess.run(optimizer, feed_dict={x: batch_x, y: batch_y,\n",
    "                                       keep_prob: dropout})\n",
    "        if step % display_step == 0:\n",
    "            # Calculate batch loss and accuracy\n",
    "            loss, acc = sess.run([cost, accuracy], feed_dict={x: batch_x,\n",
    "                                                              y: batch_y,\n",
    "                                                              keep_prob: 1.})\n",
    "            print (\"Iter \" + str(step*batch_size) + \", Minibatch Loss= \" + \\\n",
    "                  \"{:.6f}\".format(loss) + \", Training Accuracy= \" + \\\n",
    "                  \"{:.5f}\".format(acc))\n",
    "        step += 1\n",
    "    print (\"Optimization Finished!\")\n",
    "    \n",
    "    # Calculate accuracy for 256 mnist test images\n",
    "    print (\"Testing Accuracy:\", \\\n",
    "        sess.run(accuracy, feed_dict={x: testingdatafinal.images,\n",
    "                                      y: testingdatafinal.labels,\n",
    "                                      keep_prob: 1.}))"
   ]
  }
 ],
 "metadata": {
  "kernelspec": {
   "display_name": "Python 3",
   "language": "python",
   "name": "python3"
  },
  "language_info": {
   "codemirror_mode": {
    "name": "ipython",
    "version": 3
   },
   "file_extension": ".py",
   "mimetype": "text/x-python",
   "name": "python",
   "nbconvert_exporter": "python",
   "pygments_lexer": "ipython3",
   "version": "3.4.3"
  }
 },
 "nbformat": 4,
 "nbformat_minor": 1
}
